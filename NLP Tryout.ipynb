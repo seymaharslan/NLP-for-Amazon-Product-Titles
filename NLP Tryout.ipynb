{
 "cells": [
  {
   "cell_type": "code",
   "execution_count": 23,
   "metadata": {},
   "outputs": [],
   "source": [
    "import pandas as pd"
   ]
  },
  {
   "cell_type": "code",
   "execution_count": 24,
   "metadata": {},
   "outputs": [
    {
     "data": {
      "text/html": [
       "<div>\n",
       "<style scoped>\n",
       "    .dataframe tbody tr th:only-of-type {\n",
       "        vertical-align: middle;\n",
       "    }\n",
       "\n",
       "    .dataframe tbody tr th {\n",
       "        vertical-align: top;\n",
       "    }\n",
       "\n",
       "    .dataframe thead th {\n",
       "        text-align: right;\n",
       "    }\n",
       "</style>\n",
       "<table border=\"1\" class=\"dataframe\">\n",
       "  <thead>\n",
       "    <tr style=\"text-align: right;\">\n",
       "      <th></th>\n",
       "      <th>Max for a title</th>\n",
       "      <th>Title</th>\n",
       "    </tr>\n",
       "  </thead>\n",
       "  <tbody>\n",
       "    <tr>\n",
       "      <th>0</th>\n",
       "      <td>4633</td>\n",
       "      <td>Wheel Accessories Parts 20 Dual Coating Chrome...</td>\n",
       "    </tr>\n",
       "    <tr>\n",
       "      <th>1</th>\n",
       "      <td>2824</td>\n",
       "      <td>Wheel Accessories Parts Set of 32 Chrome Spike...</td>\n",
       "    </tr>\n",
       "    <tr>\n",
       "      <th>2</th>\n",
       "      <td>2628</td>\n",
       "      <td>Wheel Accessories Parts Set of 24 Black Spiked...</td>\n",
       "    </tr>\n",
       "    <tr>\n",
       "      <th>3</th>\n",
       "      <td>2536</td>\n",
       "      <td>Wheel Accessories Parts Set of 24 14x1.5 Lug N...</td>\n",
       "    </tr>\n",
       "    <tr>\n",
       "      <th>4</th>\n",
       "      <td>2185</td>\n",
       "      <td>Wheel Accessories Parts Set of 32 Black Spiked...</td>\n",
       "    </tr>\n",
       "    <tr>\n",
       "      <th>...</th>\n",
       "      <td>...</td>\n",
       "      <td>...</td>\n",
       "    </tr>\n",
       "    <tr>\n",
       "      <th>497</th>\n",
       "      <td>10</td>\n",
       "      <td>Wheel Spacer - Bolt-On Spacer Kit - 5x100-5x11...</td>\n",
       "    </tr>\n",
       "    <tr>\n",
       "      <th>498</th>\n",
       "      <td>10</td>\n",
       "      <td>Wheel Accessories Parts Set of 20 Black 7/16 L...</td>\n",
       "    </tr>\n",
       "    <tr>\n",
       "      <th>499</th>\n",
       "      <td>10</td>\n",
       "      <td>Wheel Accessories Parts Set of 20 Lug Nut Clos...</td>\n",
       "    </tr>\n",
       "    <tr>\n",
       "      <th>500</th>\n",
       "      <td>10</td>\n",
       "      <td>Wheel Accessories Parts Set of 20 Chrome 14x2....</td>\n",
       "    </tr>\n",
       "    <tr>\n",
       "      <th>501</th>\n",
       "      <td>10</td>\n",
       "      <td>Wheel Accessories Parts Set of 20 Black 1/2 Op...</td>\n",
       "    </tr>\n",
       "  </tbody>\n",
       "</table>\n",
       "<p>502 rows × 2 columns</p>\n",
       "</div>"
      ],
      "text/plain": [
       "     Max for a title                                              Title\n",
       "0               4633  Wheel Accessories Parts 20 Dual Coating Chrome...\n",
       "1               2824  Wheel Accessories Parts Set of 32 Chrome Spike...\n",
       "2               2628  Wheel Accessories Parts Set of 24 Black Spiked...\n",
       "3               2536  Wheel Accessories Parts Set of 24 14x1.5 Lug N...\n",
       "4               2185  Wheel Accessories Parts Set of 32 Black Spiked...\n",
       "..               ...                                                ...\n",
       "497               10  Wheel Spacer - Bolt-On Spacer Kit - 5x100-5x11...\n",
       "498               10  Wheel Accessories Parts Set of 20 Black 7/16 L...\n",
       "499               10  Wheel Accessories Parts Set of 20 Lug Nut Clos...\n",
       "500               10  Wheel Accessories Parts Set of 20 Chrome 14x2....\n",
       "501               10  Wheel Accessories Parts Set of 20 Black 1/2 Op...\n",
       "\n",
       "[502 rows x 2 columns]"
      ]
     },
     "execution_count": 24,
     "metadata": {},
     "output_type": "execute_result"
    }
   ],
   "source": [
    "pd.read_csv('max.csv')"
   ]
  },
  {
   "cell_type": "code",
   "execution_count": 25,
   "metadata": {},
   "outputs": [],
   "source": [
    "modal= pd.read_csv(\"Data-NLP.csv\")"
   ]
  },
  {
   "cell_type": "code",
   "execution_count": 26,
   "metadata": {},
   "outputs": [
    {
     "data": {
      "text/html": [
       "<div>\n",
       "<style scoped>\n",
       "    .dataframe tbody tr th:only-of-type {\n",
       "        vertical-align: middle;\n",
       "    }\n",
       "\n",
       "    .dataframe tbody tr th {\n",
       "        vertical-align: top;\n",
       "    }\n",
       "\n",
       "    .dataframe thead th {\n",
       "        text-align: right;\n",
       "    }\n",
       "</style>\n",
       "<table border=\"1\" class=\"dataframe\">\n",
       "  <thead>\n",
       "    <tr style=\"text-align: right;\">\n",
       "      <th></th>\n",
       "      <th>Max for a title</th>\n",
       "      <th>Title</th>\n",
       "    </tr>\n",
       "  </thead>\n",
       "  <tbody>\n",
       "    <tr>\n",
       "      <th>0</th>\n",
       "      <td>4633</td>\n",
       "      <td>Wheel Accessories Parts 20 Dual Coating Chrome...</td>\n",
       "    </tr>\n",
       "    <tr>\n",
       "      <th>1</th>\n",
       "      <td>2824</td>\n",
       "      <td>Wheel Accessories Parts Set of 32 Chrome Spike...</td>\n",
       "    </tr>\n",
       "    <tr>\n",
       "      <th>2</th>\n",
       "      <td>2628</td>\n",
       "      <td>Wheel Accessories Parts Set of 24 Black Spiked...</td>\n",
       "    </tr>\n",
       "    <tr>\n",
       "      <th>3</th>\n",
       "      <td>2536</td>\n",
       "      <td>Wheel Accessories Parts Set of 24 14x1.5 Lug N...</td>\n",
       "    </tr>\n",
       "    <tr>\n",
       "      <th>4</th>\n",
       "      <td>2185</td>\n",
       "      <td>Wheel Accessories Parts Set of 32 Black Spiked...</td>\n",
       "    </tr>\n",
       "    <tr>\n",
       "      <th>...</th>\n",
       "      <td>...</td>\n",
       "      <td>...</td>\n",
       "    </tr>\n",
       "    <tr>\n",
       "      <th>496</th>\n",
       "      <td>10</td>\n",
       "      <td>Wheel Spacer - Bolt-On Spacer Kit - 5x100-5x11...</td>\n",
       "    </tr>\n",
       "    <tr>\n",
       "      <th>497</th>\n",
       "      <td>10</td>\n",
       "      <td>Wheel Accessories Parts Set of 20 Black 7/16 L...</td>\n",
       "    </tr>\n",
       "    <tr>\n",
       "      <th>498</th>\n",
       "      <td>10</td>\n",
       "      <td>Wheel Accessories Parts Set of 20 Lug Nut Clos...</td>\n",
       "    </tr>\n",
       "    <tr>\n",
       "      <th>499</th>\n",
       "      <td>10</td>\n",
       "      <td>Wheel Accessories Parts Set of 20 Chrome 14x2....</td>\n",
       "    </tr>\n",
       "    <tr>\n",
       "      <th>500</th>\n",
       "      <td>10</td>\n",
       "      <td>Wheel Accessories Parts Set of 20 Black 1/2 Op...</td>\n",
       "    </tr>\n",
       "  </tbody>\n",
       "</table>\n",
       "<p>501 rows × 2 columns</p>\n",
       "</div>"
      ],
      "text/plain": [
       "     Max for a title                                              Title\n",
       "0               4633  Wheel Accessories Parts 20 Dual Coating Chrome...\n",
       "1               2824  Wheel Accessories Parts Set of 32 Chrome Spike...\n",
       "2               2628  Wheel Accessories Parts Set of 24 Black Spiked...\n",
       "3               2536  Wheel Accessories Parts Set of 24 14x1.5 Lug N...\n",
       "4               2185  Wheel Accessories Parts Set of 32 Black Spiked...\n",
       "..               ...                                                ...\n",
       "496               10  Wheel Spacer - Bolt-On Spacer Kit - 5x100-5x11...\n",
       "497               10  Wheel Accessories Parts Set of 20 Black 7/16 L...\n",
       "498               10  Wheel Accessories Parts Set of 20 Lug Nut Clos...\n",
       "499               10  Wheel Accessories Parts Set of 20 Chrome 14x2....\n",
       "500               10  Wheel Accessories Parts Set of 20 Black 1/2 Op...\n",
       "\n",
       "[501 rows x 2 columns]"
      ]
     },
     "execution_count": 26,
     "metadata": {},
     "output_type": "execute_result"
    }
   ],
   "source": [
    "modal"
   ]
  },
  {
   "cell_type": "code",
   "execution_count": 27,
   "metadata": {},
   "outputs": [],
   "source": [
    "import spacy"
   ]
  },
  {
   "cell_type": "code",
   "execution_count": 28,
   "metadata": {},
   "outputs": [],
   "source": [
    "## for data\n",
    "import pandas as pd\n",
    "import collections\n",
    "import json\n",
    "## for plotting\n",
    "import matplotlib.pyplot as plt\n",
    "import seaborn as sns\n",
    "import wordcloud\n",
    "## for text processing\n",
    "import re\n",
    "import nltk\n",
    "## for language detection\n",
    "import langdetect \n",
    "## for sentiment\n",
    "from textblob import TextBlob\n",
    "## for ner\n",
    "import spacy\n",
    "## for vectorizer\n",
    "from sklearn import feature_extraction, manifold\n",
    "## for word embedding\n",
    "import gensim.downloader as gensim_api\n",
    "## for topic modeling\n",
    "import gensim"
   ]
  },
  {
   "cell_type": "code",
   "execution_count": 39,
   "metadata": {},
   "outputs": [],
   "source": [
    "from stop_words import get_stop_words\n",
    "from nltk.stem.snowball import SnowballStemmer\n",
    "from Levenshtein import *\n"
   ]
  },
  {
   "cell_type": "code",
   "execution_count": 32,
   "metadata": {},
   "outputs": [],
   "source": [
    "txt = modal[\"Title\"].iloc[0]\n"
   ]
  },
  {
   "cell_type": "code",
   "execution_count": 33,
   "metadata": {},
   "outputs": [
    {
     "name": "stdout",
     "output_type": "stream",
     "text": [
      "Wheel Accessories Parts 20 Dual Coating Chrome 12x1.5 Closed End Bulge Acorn Lug Nuts - Cone Seat - 19mm Hex Wheel Lug Nut  -->  en\n"
     ]
    }
   ],
   "source": [
    "print(txt, \" --> \", langdetect.detect(txt))\n"
   ]
  },
  {
   "cell_type": "code",
   "execution_count": 34,
   "metadata": {},
   "outputs": [
    {
     "name": "stdout",
     "output_type": "stream",
     "text": [
      "Wheel Accessories Parts 20 Dual Coating Chrome 12x1.5 Closed End Bulge Acorn Lug Nuts - Cone Seat - 19mm Hex Wheel Lug Nut\n"
     ]
    }
   ],
   "source": [
    "print(txt)"
   ]
  },
  {
   "cell_type": "code",
   "execution_count": 35,
   "metadata": {},
   "outputs": [],
   "source": [
    "txt = re.sub(r'[^\\w\\s]', '', str(txt).lower().strip())"
   ]
  },
  {
   "cell_type": "code",
   "execution_count": 36,
   "metadata": {},
   "outputs": [],
   "source": [
    "txt = txt.split()"
   ]
  },
  {
   "cell_type": "code",
   "execution_count": 37,
   "metadata": {},
   "outputs": [
    {
     "name": "stdout",
     "output_type": "stream",
     "text": [
      "['wheel', 'accessories', 'parts', '20', 'dual', 'coating', 'chrome', '12x15', 'closed', 'end', 'bulge', 'acorn', 'lug', 'nuts', 'cone', 'seat', '19mm', 'hex', 'wheel', 'lug', 'nut']\n"
     ]
    }
   ],
   "source": [
    "print(txt)"
   ]
  },
  {
   "cell_type": "code",
   "execution_count": 41,
   "metadata": {},
   "outputs": [
    {
     "name": "stderr",
     "output_type": "stream",
     "text": [
      "[nltk_data] Downloading package stopwords to\n",
      "[nltk_data]     C:\\Users\\sarslan\\AppData\\Roaming\\nltk_data...\n",
      "[nltk_data]   Unzipping corpora\\stopwords.zip.\n"
     ]
    },
    {
     "data": {
      "text/plain": [
       "True"
      ]
     },
     "execution_count": 41,
     "metadata": {},
     "output_type": "execute_result"
    }
   ],
   "source": [
    "nltk.download('stopwords')"
   ]
  },
  {
   "cell_type": "code",
   "execution_count": 42,
   "metadata": {},
   "outputs": [],
   "source": [
    "lst_stopwords = nltk.corpus.stopwords.words(\"english\")"
   ]
  },
  {
   "cell_type": "code",
   "execution_count": 43,
   "metadata": {},
   "outputs": [
    {
     "data": {
      "text/plain": [
       "['i',\n",
       " 'me',\n",
       " 'my',\n",
       " 'myself',\n",
       " 'we',\n",
       " 'our',\n",
       " 'ours',\n",
       " 'ourselves',\n",
       " 'you',\n",
       " \"you're\",\n",
       " \"you've\",\n",
       " \"you'll\",\n",
       " \"you'd\",\n",
       " 'your',\n",
       " 'yours',\n",
       " 'yourself',\n",
       " 'yourselves',\n",
       " 'he',\n",
       " 'him',\n",
       " 'his',\n",
       " 'himself',\n",
       " 'she',\n",
       " \"she's\",\n",
       " 'her',\n",
       " 'hers',\n",
       " 'herself',\n",
       " 'it',\n",
       " \"it's\",\n",
       " 'its',\n",
       " 'itself',\n",
       " 'they',\n",
       " 'them',\n",
       " 'their',\n",
       " 'theirs',\n",
       " 'themselves',\n",
       " 'what',\n",
       " 'which',\n",
       " 'who',\n",
       " 'whom',\n",
       " 'this',\n",
       " 'that',\n",
       " \"that'll\",\n",
       " 'these',\n",
       " 'those',\n",
       " 'am',\n",
       " 'is',\n",
       " 'are',\n",
       " 'was',\n",
       " 'were',\n",
       " 'be',\n",
       " 'been',\n",
       " 'being',\n",
       " 'have',\n",
       " 'has',\n",
       " 'had',\n",
       " 'having',\n",
       " 'do',\n",
       " 'does',\n",
       " 'did',\n",
       " 'doing',\n",
       " 'a',\n",
       " 'an',\n",
       " 'the',\n",
       " 'and',\n",
       " 'but',\n",
       " 'if',\n",
       " 'or',\n",
       " 'because',\n",
       " 'as',\n",
       " 'until',\n",
       " 'while',\n",
       " 'of',\n",
       " 'at',\n",
       " 'by',\n",
       " 'for',\n",
       " 'with',\n",
       " 'about',\n",
       " 'against',\n",
       " 'between',\n",
       " 'into',\n",
       " 'through',\n",
       " 'during',\n",
       " 'before',\n",
       " 'after',\n",
       " 'above',\n",
       " 'below',\n",
       " 'to',\n",
       " 'from',\n",
       " 'up',\n",
       " 'down',\n",
       " 'in',\n",
       " 'out',\n",
       " 'on',\n",
       " 'off',\n",
       " 'over',\n",
       " 'under',\n",
       " 'again',\n",
       " 'further',\n",
       " 'then',\n",
       " 'once',\n",
       " 'here',\n",
       " 'there',\n",
       " 'when',\n",
       " 'where',\n",
       " 'why',\n",
       " 'how',\n",
       " 'all',\n",
       " 'any',\n",
       " 'both',\n",
       " 'each',\n",
       " 'few',\n",
       " 'more',\n",
       " 'most',\n",
       " 'other',\n",
       " 'some',\n",
       " 'such',\n",
       " 'no',\n",
       " 'nor',\n",
       " 'not',\n",
       " 'only',\n",
       " 'own',\n",
       " 'same',\n",
       " 'so',\n",
       " 'than',\n",
       " 'too',\n",
       " 'very',\n",
       " 's',\n",
       " 't',\n",
       " 'can',\n",
       " 'will',\n",
       " 'just',\n",
       " 'don',\n",
       " \"don't\",\n",
       " 'should',\n",
       " \"should've\",\n",
       " 'now',\n",
       " 'd',\n",
       " 'll',\n",
       " 'm',\n",
       " 'o',\n",
       " 're',\n",
       " 've',\n",
       " 'y',\n",
       " 'ain',\n",
       " 'aren',\n",
       " \"aren't\",\n",
       " 'couldn',\n",
       " \"couldn't\",\n",
       " 'didn',\n",
       " \"didn't\",\n",
       " 'doesn',\n",
       " \"doesn't\",\n",
       " 'hadn',\n",
       " \"hadn't\",\n",
       " 'hasn',\n",
       " \"hasn't\",\n",
       " 'haven',\n",
       " \"haven't\",\n",
       " 'isn',\n",
       " \"isn't\",\n",
       " 'ma',\n",
       " 'mightn',\n",
       " \"mightn't\",\n",
       " 'mustn',\n",
       " \"mustn't\",\n",
       " 'needn',\n",
       " \"needn't\",\n",
       " 'shan',\n",
       " \"shan't\",\n",
       " 'shouldn',\n",
       " \"shouldn't\",\n",
       " 'wasn',\n",
       " \"wasn't\",\n",
       " 'weren',\n",
       " \"weren't\",\n",
       " 'won',\n",
       " \"won't\",\n",
       " 'wouldn',\n",
       " \"wouldn't\"]"
      ]
     },
     "execution_count": 43,
     "metadata": {},
     "output_type": "execute_result"
    }
   ],
   "source": [
    "lst_stopwords"
   ]
  },
  {
   "cell_type": "code",
   "execution_count": 44,
   "metadata": {},
   "outputs": [],
   "source": [
    "txt = [word for word in txt if word not in lst_stopwords]"
   ]
  },
  {
   "cell_type": "code",
   "execution_count": 45,
   "metadata": {},
   "outputs": [
    {
     "name": "stdout",
     "output_type": "stream",
     "text": [
      "['wheel', 'accessories', 'parts', '20', 'dual', 'coating', 'chrome', '12x15', 'closed', 'end', 'bulge', 'acorn', 'lug', 'nuts', 'cone', 'seat', '19mm', 'hex', 'wheel', 'lug', 'nut']\n"
     ]
    }
   ],
   "source": [
    "print(txt)\n"
   ]
  },
  {
   "cell_type": "code",
   "execution_count": 48,
   "metadata": {},
   "outputs": [
    {
     "data": {
      "text/html": [
       "<div>\n",
       "<style scoped>\n",
       "    .dataframe tbody tr th:only-of-type {\n",
       "        vertical-align: middle;\n",
       "    }\n",
       "\n",
       "    .dataframe tbody tr th {\n",
       "        vertical-align: top;\n",
       "    }\n",
       "\n",
       "    .dataframe thead th {\n",
       "        text-align: right;\n",
       "    }\n",
       "</style>\n",
       "<table border=\"1\" class=\"dataframe\">\n",
       "  <thead>\n",
       "    <tr style=\"text-align: right;\">\n",
       "      <th></th>\n",
       "      <th>Max for a title</th>\n",
       "      <th>Title</th>\n",
       "      <th>word_count</th>\n",
       "      <th>char_count</th>\n",
       "      <th>sentence_count</th>\n",
       "      <th>avg_word_length</th>\n",
       "      <th>avg_sentence_lenght</th>\n",
       "    </tr>\n",
       "  </thead>\n",
       "  <tbody>\n",
       "    <tr>\n",
       "      <th>0</th>\n",
       "      <td>4633</td>\n",
       "      <td>Wheel Accessories Parts 20 Dual Coating Chrome...</td>\n",
       "      <td>23</td>\n",
       "      <td>100</td>\n",
       "      <td>2</td>\n",
       "      <td>4.347826</td>\n",
       "      <td>11.500000</td>\n",
       "    </tr>\n",
       "    <tr>\n",
       "      <th>1</th>\n",
       "      <td>2824</td>\n",
       "      <td>Wheel Accessories Parts Set of 32 Chrome Spike...</td>\n",
       "      <td>28</td>\n",
       "      <td>125</td>\n",
       "      <td>3</td>\n",
       "      <td>4.464286</td>\n",
       "      <td>9.333333</td>\n",
       "    </tr>\n",
       "    <tr>\n",
       "      <th>2</th>\n",
       "      <td>2628</td>\n",
       "      <td>Wheel Accessories Parts Set of 24 Black Spiked...</td>\n",
       "      <td>36</td>\n",
       "      <td>163</td>\n",
       "      <td>3</td>\n",
       "      <td>4.527778</td>\n",
       "      <td>12.000000</td>\n",
       "    </tr>\n",
       "    <tr>\n",
       "      <th>3</th>\n",
       "      <td>2536</td>\n",
       "      <td>Wheel Accessories Parts Set of 24 14x1.5 Lug N...</td>\n",
       "      <td>17</td>\n",
       "      <td>79</td>\n",
       "      <td>2</td>\n",
       "      <td>4.647059</td>\n",
       "      <td>8.500000</td>\n",
       "    </tr>\n",
       "    <tr>\n",
       "      <th>4</th>\n",
       "      <td>2185</td>\n",
       "      <td>Wheel Accessories Parts Set of 32 Black Spiked...</td>\n",
       "      <td>28</td>\n",
       "      <td>124</td>\n",
       "      <td>3</td>\n",
       "      <td>4.428571</td>\n",
       "      <td>9.333333</td>\n",
       "    </tr>\n",
       "  </tbody>\n",
       "</table>\n",
       "</div>"
      ],
      "text/plain": [
       "   Max for a title                                              Title  \\\n",
       "0             4633  Wheel Accessories Parts 20 Dual Coating Chrome...   \n",
       "1             2824  Wheel Accessories Parts Set of 32 Chrome Spike...   \n",
       "2             2628  Wheel Accessories Parts Set of 24 Black Spiked...   \n",
       "3             2536  Wheel Accessories Parts Set of 24 14x1.5 Lug N...   \n",
       "4             2185  Wheel Accessories Parts Set of 32 Black Spiked...   \n",
       "\n",
       "   word_count  char_count  sentence_count  avg_word_length  \\\n",
       "0          23         100               2         4.347826   \n",
       "1          28         125               3         4.464286   \n",
       "2          36         163               3         4.527778   \n",
       "3          17          79               2         4.647059   \n",
       "4          28         124               3         4.428571   \n",
       "\n",
       "   avg_sentence_lenght  \n",
       "0            11.500000  \n",
       "1             9.333333  \n",
       "2            12.000000  \n",
       "3             8.500000  \n",
       "4             9.333333  "
      ]
     },
     "execution_count": 48,
     "metadata": {},
     "output_type": "execute_result"
    }
   ],
   "source": [
    "modal['word_count'] = modal[\"Title\"].apply(lambda x: len(str(x).split(\" \")))\n",
    "modal['char_count'] = modal[\"Title\"].apply(lambda x: sum(len(word) for word in str(x).split(\" \")))\n",
    "modal['sentence_count'] = modal[\"Title\"].apply(lambda x: len(str(x).split(\".\")))\n",
    "modal['avg_word_length'] = modal['char_count'] / modal['word_count']\n",
    "modal['avg_sentence_lenght'] = modal['word_count'] / modal['sentence_count']\n",
    "modal.head()"
   ]
  },
  {
   "cell_type": "code",
   "execution_count": null,
   "metadata": {},
   "outputs": [],
   "source": []
  }
 ],
 "metadata": {
  "kernelspec": {
   "display_name": "Python 3",
   "language": "python",
   "name": "python3"
  },
  "language_info": {
   "codemirror_mode": {
    "name": "ipython",
    "version": 3
   },
   "file_extension": ".py",
   "mimetype": "text/x-python",
   "name": "python",
   "nbconvert_exporter": "python",
   "pygments_lexer": "ipython3",
   "version": "3.8.5"
  }
 },
 "nbformat": 4,
 "nbformat_minor": 5
}
